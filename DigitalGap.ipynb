{
  "cells": [
    {
      "cell_type": "code",
      "source": [
        "!pip"
      ],
      "metadata": {
        "id": "g87X2sr3QsST"
      },
      "execution_count": null,
      "outputs": []
    },
    {
      "cell_type": "markdown",
      "metadata": {
        "id": "7DYj7E2zVUNs"
      },
      "source": [
        "# Exctracting frames\n"
      ]
    },
    {
      "cell_type": "code",
      "execution_count": null,
      "metadata": {
        "id": "9Scze2bbpzcr"
      },
      "outputs": [],
      "source": [
        "!sudo apt install tesseract-ocr"
      ]
    },
    {
      "cell_type": "code",
      "execution_count": null,
      "metadata": {
        "id": "7pjmEK4VMKpO"
      },
      "outputs": [],
      "source": [
        "!pip install pytesseract\n",
        "# !pip install -U Pillow\n",
        "\n",
        "!pip install Pillow==7.1.2\n"
      ]
    },
    {
      "cell_type": "code",
      "execution_count": null,
      "metadata": {
        "colab": {
          "base_uri": "https://localhost:8080/"
        },
        "id": "l7aZcMGUsoj2",
        "outputId": "74644cb9-800f-4ddb-d572-5e5d785c5a0e"
      },
      "outputs": [
        {
          "output_type": "stream",
          "name": "stdout",
          "text": [
            "Mounted at /content/gdrive\n"
          ]
        }
      ],
      "source": [
        "from google.colab import drive\n",
        "drive.mount('/content/gdrive')"
      ]
    },
    {
      "cell_type": "code",
      "execution_count": null,
      "metadata": {
        "id": "HuSOuHx-09OR"
      },
      "outputs": [],
      "source": [
        "import pandas as pd\n",
        "import matplotlib.pyplot as plt\n",
        "\n",
        "data = pd.read_csv('/content/train_comb - train_comb (3).csv')\n",
        "# data.shape\n",
        "# data = data[data[\"id\"].str.contains(\"\\*\") == False]\n",
        "\n",
        "data['comb'] = data['employee'].astype(str) + '/' + data['action'].astype(str)\n",
        "\n",
        "# for row in data.iterrows():\n",
        "#   print(row)\n"
      ]
    },
    {
      "cell_type": "code",
      "source": [
        "del data"
      ],
      "metadata": {
        "id": "hZ3Q7cvGjjyY"
      },
      "execution_count": null,
      "outputs": []
    },
    {
      "cell_type": "code",
      "source": [
        "count_in_classes = pd.DataFrame(data['comb'].value_counts(ascending=True))\n",
        "# print(type(count_in_classes))\n",
        "for cl in count_in_classes.iterrows():\n",
        "  print(cl[0], cl[1][0])\n",
        "\n",
        "n, bins, patches = plt.hist(data['comb'], 50, density=True, facecolor='g', alpha=0.75)"
      ],
      "metadata": {
        "id": "cVGYdi7BVmYI"
      },
      "execution_count": null,
      "outputs": []
    },
    {
      "cell_type": "code",
      "execution_count": null,
      "metadata": {
        "colab": {
          "base_uri": "https://localhost:8080/"
        },
        "id": "FJkqFDnd-s1u",
        "outputId": "e7fc3c09-cc68-4fa6-a2a4-d427c423d3a1"
      },
      "outputs": [
        {
          "output_type": "stream",
          "name": "stdout",
          "text": [
            "3678\n"
          ]
        }
      ],
      "source": [
        "\n",
        "date_train = data['date'].values\n",
        "print(len(data))"
      ]
    },
    {
      "cell_type": "code",
      "execution_count": null,
      "metadata": {
        "colab": {
          "base_uri": "https://localhost:8080/"
        },
        "id": "pWKbgRAD95Ev",
        "outputId": "b874e931-98db-4eab-82ba-cc6af3065a95"
      },
      "outputs": [
        {
          "name": "stdout",
          "output_type": "stream",
          "text": [
            "0\n",
            "3519\n",
            "[1256 1257 1258 ... 4772 4773 4774]\n"
          ]
        }
      ],
      "source": [
        "import os\n",
        "dir_path = r'/content/gdrive/MyDrive/DigitalGap/validation'\n",
        "\n",
        "already_exctracted = []\n",
        "\n",
        "for path in os.listdir(dir_path):\n",
        "    if os.path.isfile(os.path.join(dir_path, path)):\n",
        "        already_exctracted.append(path.split('.')[0])\n",
        "print(len(already_exctracted))\n",
        "\n",
        "new_data = data[data.id.isin(list(map(int, already_exctracted))) == False]\n",
        "print(len(new_data))\n",
        "\n",
        "date_train = new_data['date'].values\n",
        "print(new_data['id'].values)\n"
      ]
    },
    {
      "cell_type": "code",
      "execution_count": null,
      "metadata": {
        "id": "9kPlfI2SDVFR"
      },
      "outputs": [],
      "source": [
        "import shutil\n",
        "import random \n",
        "\n",
        "\n",
        "random.shuffle(already_exctracted)\n",
        "cnt = 0\n",
        "for im in already_exctracted:\n",
        "  if cnt == 792:\n",
        "    break\n",
        "  try:\n",
        "    shutil.move(f'/content/gdrive/MyDrive/DigitalGap/validation/{im}.jpg', '/content/gdrive/MyDrive/DigitalGap/tr1_train') \n",
        "    cnt += 1\n",
        "\n",
        "  except Exception:\n",
        "    continue\n"
      ]
    },
    {
      "cell_type": "code",
      "execution_count": null,
      "metadata": {
        "colab": {
          "background_save": true
        },
        "id": "JJzNOFCEM6Aj",
        "outputId": "1e18c580-c7fa-4a29-8fa5-c8d5f308a104"
      },
      "outputs": [
        {
          "name": "stdout",
          "output_type": "stream",
          "text": [
            "11:14:48\n",
            "11:48:12\n",
            "11:52:28\n",
            "13:22:08\n",
            "13:26:48\n",
            "14:50:38\n"
          ]
        }
      ],
      "source": [
        "import pytesseract\n",
        "from PIL import Image\n",
        "import cv2\n",
        "from google.colab.patches import cv2_imshow\n",
        "from google.colab import files\n",
        "import matplotlib.pyplot as plt\n",
        "\n",
        "WHITE = [255,255,255]\n",
        "vidcap = cv2.VideoCapture('/content/gdrive/MyDrive/DigitalGap/train2.avi')\n",
        "frameNr = 15\n",
        "extracted_date = []\n",
        "extracted_id = []\n",
        "\n",
        "while (2):\n",
        "  success,image = vidcap.read()\n",
        "  if frameNr % 15 == 0:\n",
        "    if success:\n",
        "      frame_re = image[50:200, 0:800]\n",
        "      # (thresh, blackAndWhite60) = cv2.threshold(frame_re, 20, 255, cv2.THRESH_BINARY)\n",
        "\n",
        "      # constant60= cv2.copyMakeBorder(blackAndWhite60,20,20,20,20,cv2.BORDER_CONSTANT,value=WHITE)\n",
        "\n",
        "      extractedInformation60 = pytesseract.image_to_string(frame_re)\n",
        "      \n",
        "      date60 = extractedInformation60[1:10].replace('-','/').strip()\n",
        "\n",
        "      time60 = extractedInformation60[15:23].strip()\n",
        "\n",
        "      full_date60 = date60 + \" \" + time60\n",
        "\n",
        "      if not(full_date60 in extracted_date) and (full_date60 in date_train):\n",
        "        print(time60)\n",
        "        extracted_date.append(full_date60)\n",
        "        id = data.loc[data['date'] == full_date60]['id'].values[0]\n",
        "        cv2.imwrite(f'/content/gdrive/MyDrive/DigitalGap/tr1_train/{id}.jpg' , image)\n",
        "        extracted_id.append(id)\n",
        "      frameNr += 1\n",
        "    else:\n",
        "      break\n",
        "  else:\n",
        "    frameNr += 1\n",
        "    continue\n",
        "\n",
        "with open('res.txt', 'w') as fp:\n",
        "    for item in extracted_date:\n",
        "        fp.write(\"%s\\n\" % item)\n",
        "\n",
        "files.download( \"res.txt\" ) \n",
        "\n"
      ]
    },
    {
      "cell_type": "markdown",
      "metadata": {
        "id": "Xwnca9RbVo4Y"
      },
      "source": [
        "# Новый раздел"
      ]
    },
    {
      "cell_type": "code",
      "execution_count": null,
      "metadata": {
        "id": "dOnJaXE8dK6c"
      },
      "outputs": [],
      "source": [
        "import numpy as np \n",
        "import pandas as pd \n",
        "import os\n",
        "import matplotlib.pyplot as plt\n",
        "import cv2\n",
        "import tensorflow as tf\n",
        "from sklearn.preprocessing import OneHotEncoder\n",
        "from tensorflow.keras.utils import to_categorical\n",
        "from keras.layers import Dense,Flatten,MaxPool2D\n",
        "from keras.models import Sequential\n",
        "from tensorflow.keras import layers\n",
        "from sklearn.model_selection import train_test_split\n",
        "# from keras.callbacks import History\n",
        "# from keras.callbacks import ModelCheckpoint, TensorBoard\n",
        "# from keras.engine import training\n",
        "from keras.layers import Conv2D, MaxPooling2D, GlobalAveragePooling2D, Dropout, Activation\n",
        "# from keras.losses import categorical_crossentropy\n",
        "# from keras.models import Model, Input\n",
        "# from tensorflow.keras.optimizers import Adam\n",
        "# from tensorflow.python.framework.ops import Tensor\n",
        "# from typing import Tuple, List\n",
        "\n",
        "\n",
        "\n",
        "np.random.seed(1)\n",
        "\n",
        "# print(keras.__version__)"
      ]
    },
    {
      "cell_type": "code",
      "source": [
        "print(data[data['id']== str(18517)])\n"
      ],
      "metadata": {
        "colab": {
          "base_uri": "https://localhost:8080/"
        },
        "id": "SsuYcHevELCC",
        "outputId": "10f5ba6a-5d52-475d-f5ff-b99cbd7deee2"
      },
      "execution_count": null,
      "outputs": [
        {
          "output_type": "stream",
          "name": "stdout",
          "text": [
            "         id                date  employee  action  comb\n",
            "3735  18517  5/25/2022 06:53:25         7      15  7/15\n"
          ]
        }
      ]
    },
    {
      "cell_type": "code",
      "execution_count": null,
      "metadata": {
        "id": "sgD9YkKlqIJw",
        "colab": {
          "base_uri": "https://localhost:8080/"
        },
        "outputId": "a6d5d935-1830-4490-9bd5-313fd2209a66"
      },
      "outputs": [
        {
          "output_type": "stream",
          "name": "stdout",
          "text": [
            "1975\n"
          ]
        }
      ],
      "source": [
        "train_images = []       \n",
        "train_labels = []\n",
        "shape = (512,512)  \n",
        "train_path = '/content/gdrive/MyDrive/DigitalGap/train2'\n",
        "compare_dict = {}\n",
        "label = ''\n",
        "for filename in os.listdir(train_path):\n",
        "    if filename.split('.')[1] == 'jpg':\n",
        "        img = cv2.imread(os.path.join(train_path,filename))\n",
        "\n",
        "        # Spliting file names and storing the labels for image in list\n",
        "        \n",
        "        id = filename.split('.')[0]\n",
        "        if len(data[data['id']==str(id)]['employee'].values) > 0:\n",
        "          label = data[data['id']==str(id)]['employee'].values[0]\n",
        "\n",
        "        train_labels.append(label)\n",
        "        # print(id, label)\n",
        "        # Resize all images to a specific shape\n",
        "        img = cv2.resize(img,shape).reshape(512,512,3)\n",
        "\n",
        "        train_images.append(img)\n",
        "        compare_dict[label] = img\n",
        "\n",
        "print(len(train_labels))\n",
        "# Converting labels into One Hot encoded sparse matrix\n",
        "\n",
        "\n"
      ]
    },
    {
      "cell_type": "code",
      "source": [
        "for img in train_images:\n",
        "  print(img.shape)"
      ],
      "metadata": {
        "id": "tlXUm2zfonG1"
      },
      "execution_count": null,
      "outputs": []
    },
    {
      "cell_type": "code",
      "source": [
        "def augmentation_handle(img, label):\n",
        "  #Augmentation\n",
        "  img = img.reshape(400,400,3)\n",
        "  for i in range(5):\n",
        "    seed = (i, 0)  # tuple of size (2,)\n",
        "    stateless_random_brightness = tf.image.stateless_random_brightness(img, max_delta=0.2, seed=seed)\n",
        "    stateless_random_contrast = tf.image.stateless_random_contrast(img, lower=0.1, upper=0.9, seed=seed)\n",
        "    train_images.append(stateless_random_brightness)\n",
        "    train_images.append(stateless_random_contrast)\n",
        "    train_labels.append(label)\n",
        "    train_labels.append(label)\n",
        "\n",
        "    stateless_random_crop = tf.image.central_crop(img, central_fraction=0.7)\n",
        "    scaled_img = cv2.resize(np.float32(stateless_random_crop),(600,600))\n",
        "    train_images.append(scaled_img)\n",
        "    train_labels.append(label)\n",
        "    \n",
        "    # grayscaled = tf.image.rgb_to_grayscale(img)\n",
        "    # scaled_img = cv2.resize(np.float32(grayscaled),(600,600))\n",
        "    # img = grayscaled.reshape(600,600,3)\n",
        "    \n",
        "    # train_images.append(img)\n",
        "    # train_labels.append(label)\n",
        "    # print(grayscaled.shape)\n",
        "    # print(len(train_labels))"
      ],
      "metadata": {
        "id": "FsnE-kKbr06R"
      },
      "execution_count": null,
      "outputs": []
    },
    {
      "cell_type": "code",
      "source": [
        "count_in_classes_train =  pd.DataFrame(pd.DataFrame(train_labels).value_counts(ascending=True))\n",
        "less_classes = count_in_classes_train[count_in_classes_train[0] < 5]\n",
        "id_for_expand = []\n",
        "for row in less_classes.iterrows():\n",
        "  id_for_expand.append(row[0][0])\n",
        "  # print(f'{row[0][0]} -- {row[1][0]}')\n",
        "\n",
        "\n",
        "for item in id_for_expand:\n",
        "  if item in compare_dict:\n",
        "    # print(f'For - {item}')\n",
        "    augmentation_handle(compare_dict[item], item)\n",
        "\n",
        "\n",
        "# print(len(train_labels))"
      ],
      "metadata": {
        "id": "vOIEpnO3p_6n"
      },
      "execution_count": null,
      "outputs": []
    },
    {
      "cell_type": "code",
      "source": [
        "len(train_images)"
      ],
      "metadata": {
        "colab": {
          "base_uri": "https://localhost:8080/"
        },
        "id": "kgb1fra-pXOG",
        "outputId": "c0cf27f5-feac-42c2-aeb5-ce4b590ce0fa"
      },
      "execution_count": null,
      "outputs": [
        {
          "output_type": "execute_result",
          "data": {
            "text/plain": [
              "1948"
            ]
          },
          "metadata": {},
          "execution_count": 13
        }
      ]
    },
    {
      "cell_type": "code",
      "source": [],
      "metadata": {
        "id": "pVcBow7n8Izs"
      },
      "execution_count": null,
      "outputs": []
    },
    {
      "cell_type": "code",
      "source": [
        "one_hot_train_labels = pd.get_dummies(train_labels).values\n",
        "\n",
        "# Converting train_images to array\n",
        "train_images = np.array(train_images)\n",
        "# Splitting Training data into train and validation dataset\n",
        "x_train,x_val,y_train,y_val = train_test_split(train_images,one_hot_train_labels,random_state=42, test_size=0.33)\n",
        "\n",
        "# print(type(x_train))"
      ],
      "metadata": {
        "id": "kZ_e1e4YgnOw"
      },
      "execution_count": null,
      "outputs": []
    },
    {
      "cell_type": "code",
      "source": [
        "del train_images\n",
        "del train_labels\n",
        "del data\n",
        "del one_hot_train_labels"
      ],
      "metadata": {
        "id": "iRS9OBjK8LEo"
      },
      "execution_count": null,
      "outputs": []
    },
    {
      "cell_type": "code",
      "source": [
        "count_in_classes_train =  pd.DataFrame(pd.DataFrame(train_labels).value_counts(ascending=True))\n",
        "for item in count_in_classes_train.iterrows():\n",
        "  print(item[0][0], item[1][0])"
      ],
      "metadata": {
        "id": "R0obZFlVS2DC"
      },
      "execution_count": null,
      "outputs": []
    },
    {
      "cell_type": "code",
      "source": [
        "def visualize(original, augmented):\n",
        "  fig = plt.figure()\n",
        "  plt.subplot(1,2,1)\n",
        "  plt.title('Original image')\n",
        "  plt.imshow(original)\n",
        "\n",
        "  plt.subplot(1,2,2)\n",
        "  plt.title('Augmented image')\n",
        "  plt.imshow(augmented)"
      ],
      "metadata": {
        "id": "N012ZzDOI5Bx"
      },
      "execution_count": null,
      "outputs": []
    },
    {
      "cell_type": "code",
      "source": [
        "\n",
        "\n",
        "# for i in range(3):\n",
        "#   seed = (i, 0)  # tuple of size (2,)\n",
        "#   stateless_random_contrast = tf.image.stateless_random_contrast(\n",
        "#        train_images[i], lower=0.1, upper=0.9, seed=seed)\n",
        "#   visualize( train_images[i], stateless_random_contrast)\n",
        "\n",
        "# for i in range(3):\n",
        "#   seed = (i, 0)  # tuple of size (2,)\n",
        "#   stateless_random_crop = tf.image.central_crop(train_images[i], central_fraction=0.7)\n",
        "#   visualize(train_images[i], stateless_random_crop)\n",
        "\n",
        "# for i in range(3):\n",
        "#   seed = (i, 0)  # tuple of size (2,)\n",
        "#   grayscaled = tf.image.rgb_to_grayscale(train_images[i])\n",
        "#   visualize(train_images[i], tf.squeeze(grayscaled))\n",
        "  \n",
        "\n",
        "#------------------------------------------\n",
        "# for i in range(3):\n",
        "#   seed = (i, 0)  # tuple of size (2,)\n",
        "#   flipped = tf.image.flip_left_right(train_images[i])\n",
        "#   visualize(train_images[i], flipped)\n",
        "\n",
        "\n",
        "\n"
      ],
      "metadata": {
        "id": "dV3goMI6AERi"
      },
      "execution_count": null,
      "outputs": []
    },
    {
      "cell_type": "code",
      "execution_count": null,
      "metadata": {
        "colab": {
          "base_uri": "https://localhost:8080/"
        },
        "id": "SeTiRHjzwG6m",
        "outputId": "9e438d42-352f-4031-f979-cab08baef963"
      },
      "outputs": [
        {
          "output_type": "stream",
          "name": "stdout",
          "text": [
            "1948\n"
          ]
        }
      ],
      "source": [
        "# Visualizing Training data\n",
        "print(len(train_labels))\n",
        "# plt.imshow(train_images[0])"
      ]
    },
    {
      "cell_type": "code",
      "execution_count": null,
      "metadata": {
        "colab": {
          "base_uri": "https://localhost:8080/"
        },
        "id": "Lv6LGq7DwNge",
        "outputId": "942b7a7c-6298-4291-9d23-73a9d009962a"
      },
      "outputs": [
        {
          "output_type": "stream",
          "name": "stdout",
          "text": [
            "Model: \"sequential_1\"\n",
            "_________________________________________________________________\n",
            " Layer (type)                Output Shape              Param #   \n",
            "=================================================================\n",
            " efficientnetv2-l (Functiona  (None, 16, 16, 1280)     117746848 \n",
            " l)                                                              \n",
            "                                                                 \n",
            " batch_normalization_1 (Batc  (None, 16, 16, 1280)     8960      \n",
            " hNormalization)                                                 \n",
            "                                                                 \n",
            " global_average_pooling2d_1   (None, 1280)             0         \n",
            " (GlobalAveragePooling2D)                                        \n",
            "                                                                 \n",
            " dense_8 (Dense)             (None, 128)               163968    \n",
            "                                                                 \n",
            " dense_9 (Dense)             (None, 256)               33024     \n",
            "                                                                 \n",
            " dropout_2 (Dropout)         (None, 256)               0         \n",
            "                                                                 \n",
            " dense_10 (Dense)            (None, 256)               65792     \n",
            "                                                                 \n",
            " dense_11 (Dense)            (None, 256)               65792     \n",
            "                                                                 \n",
            " dense_12 (Dense)            (None, 256)               65792     \n",
            "                                                                 \n",
            " dense_13 (Dense)            (None, 256)               65792     \n",
            "                                                                 \n",
            " dropout_3 (Dropout)         (None, 256)               0         \n",
            "                                                                 \n",
            " dense_14 (Dense)            (None, 512)               131584    \n",
            "                                                                 \n",
            " dense_15 (Dense)            (None, 11)                5643      \n",
            "                                                                 \n",
            "=================================================================\n",
            "Total params: 118,353,195\n",
            "Trainable params: 599,947\n",
            "Non-trainable params: 117,753,248\n",
            "_________________________________________________________________\n"
          ]
        }
      ],
      "source": [
        "import tensorflow as tf\n",
        "\n",
        "base_model = tf.keras.applications.EfficientNetV2L(\n",
        "                     include_top=False,\n",
        "                     weights='imagenet',\n",
        "                     input_shape=(512,512,3)\n",
        "                     )\n",
        "\n",
        "base_model.trainable=False\n",
        "\n",
        "model = Sequential([\n",
        "        base_model,  \n",
        "        tf.keras.layers.BatchNormalization(renorm=True),\n",
        "        tf.keras.layers.GlobalAveragePooling2D(),\n",
        "        tf.keras.layers.Dense(128, activation='relu'),\n",
        "        tf.keras.layers.Dense(256, activation='relu'),\n",
        "        tf.keras.layers.Dropout(.5),\n",
        "        tf.keras.layers.Dense(256, activation='relu'),\n",
        "        tf.keras.layers.Dense(256, activation='relu'),\n",
        "        # tf.keras.layers.Dropout(.5),\n",
        "        tf.keras.layers.Dense(256, activation='relu'),\n",
        "        tf.keras.layers.Dense(256, activation='relu'),\n",
        "        tf.keras.layers.Dropout(.5),\n",
        "        tf.keras.layers.Dense(512, activation='relu'),\n",
        "        tf.keras.layers.Dense(11, activation='softmax')\n",
        "    ])\n",
        "\n",
        "# optimizer = tf.keras.optimizers.Adam(lr=0.001)\n",
        "model.compile(\n",
        "              loss='categorical_crossentropy', \n",
        "              metrics=['acc'],\n",
        "              optimizer='adam'\n",
        "             )\n",
        "# Model Summary\n",
        "model.summary()"
      ]
    },
    {
      "cell_type": "code",
      "source": [
        "# base_model = tf.keras.applications.EfficientNetV2L(\n",
        "#                      include_top=False,\n",
        "#                      weights='imagenet',\n",
        "#                      input_shape=(512,512,3)\n",
        "#                      )\n",
        "\n",
        "inputs = tf.keras.Input(shape=(512, 512, 3), name=\"img\")\n",
        "x = layers.Conv2D(64, 3, activation=\"relu\")(inputs)\n",
        "x = layers.Conv2D(128, 3, activation=\"relu\")(x)\n",
        "block_1_output = layers.MaxPooling2D(3)(x)\n",
        "x = layers.Conv2D(128, 3, activation=\"relu\", padding=\"same\")(block_1_output)\n",
        "x = layers.Conv2D(128, 3, activation=\"relu\", padding=\"same\")(x)\n",
        "block_2_output = layers.add([x, block_1_output])\n",
        "x = layers.Conv2D(128, 3, activation=\"relu\", padding=\"same\")(block_2_output)\n",
        "x = layers.Conv2D(128, 3, activation=\"relu\", padding=\"same\")(x)\n",
        "block_3_output = layers.add([x, block_2_output])\n",
        "x = layers.Conv2D(128, 3, activation=\"relu\")(block_3_output)\n",
        "x = layers.GlobalAveragePooling2D()(x)\n",
        "x = layers.Dense(256, activation=\"relu\")(x)\n",
        "x = layers.Dropout(0.5)(x)\n",
        "outputs = layers.Dense(122, activation='softmax')(x)\n",
        "\n",
        "model = tf.keras.Model(inputs, outputs, name=\"toy_resnet\")\n",
        "\n",
        "# model = Sequential([\n",
        "#         base_model,  \n",
        "#         tf.keras.layers.BatchNormalization(renorm=True),\n",
        "#         tf.keras.layers.GlobalAveragePooling2D(),\n",
        "#         model1\n",
        "#     ])\n",
        "\n",
        "model.compile(optimizer='adam',\n",
        "             loss='categorical_crossentropy',\n",
        "             metrics=['accuracy'])\n",
        "model.summary()"
      ],
      "metadata": {
        "colab": {
          "base_uri": "https://localhost:8080/"
        },
        "id": "nUVyfGU5Ul-e",
        "outputId": "3ef1c089-4944-4502-fa0a-1e184088045b"
      },
      "execution_count": null,
      "outputs": [
        {
          "output_type": "stream",
          "name": "stdout",
          "text": [
            "Model: \"toy_resnet\"\n",
            "__________________________________________________________________________________________________\n",
            " Layer (type)                   Output Shape         Param #     Connected to                     \n",
            "==================================================================================================\n",
            " img (InputLayer)               [(None, 512, 512, 3  0           []                               \n",
            "                                )]                                                                \n",
            "                                                                                                  \n",
            " conv2d_35 (Conv2D)             (None, 510, 510, 64  1792        ['img[0][0]']                    \n",
            "                                )                                                                 \n",
            "                                                                                                  \n",
            " conv2d_36 (Conv2D)             (None, 508, 508, 12  73856       ['conv2d_35[0][0]']              \n",
            "                                8)                                                                \n",
            "                                                                                                  \n",
            " max_pooling2d_10 (MaxPooling2D  (None, 169, 169, 12  0          ['conv2d_36[0][0]']              \n",
            " )                              8)                                                                \n",
            "                                                                                                  \n",
            " conv2d_37 (Conv2D)             (None, 169, 169, 12  147584      ['max_pooling2d_10[0][0]']       \n",
            "                                8)                                                                \n",
            "                                                                                                  \n",
            " conv2d_38 (Conv2D)             (None, 169, 169, 12  147584      ['conv2d_37[0][0]']              \n",
            "                                8)                                                                \n",
            "                                                                                                  \n",
            " add_10 (Add)                   (None, 169, 169, 12  0           ['conv2d_38[0][0]',              \n",
            "                                8)                                'max_pooling2d_10[0][0]']       \n",
            "                                                                                                  \n",
            " conv2d_39 (Conv2D)             (None, 169, 169, 12  147584      ['add_10[0][0]']                 \n",
            "                                8)                                                                \n",
            "                                                                                                  \n",
            " conv2d_40 (Conv2D)             (None, 169, 169, 12  147584      ['conv2d_39[0][0]']              \n",
            "                                8)                                                                \n",
            "                                                                                                  \n",
            " add_11 (Add)                   (None, 169, 169, 12  0           ['conv2d_40[0][0]',              \n",
            "                                8)                                'add_10[0][0]']                 \n",
            "                                                                                                  \n",
            " conv2d_41 (Conv2D)             (None, 167, 167, 12  147584      ['add_11[0][0]']                 \n",
            "                                8)                                                                \n",
            "                                                                                                  \n",
            " global_average_pooling2d_9 (Gl  (None, 128)         0           ['conv2d_41[0][0]']              \n",
            " obalAveragePooling2D)                                                                            \n",
            "                                                                                                  \n",
            " dense_26 (Dense)               (None, 256)          33024       ['global_average_pooling2d_9[0][0\n",
            "                                                                 ]']                              \n",
            "                                                                                                  \n",
            " dropout_7 (Dropout)            (None, 256)          0           ['dense_26[0][0]']               \n",
            "                                                                                                  \n",
            " dense_27 (Dense)               (None, 122)          31354       ['dropout_7[0][0]']              \n",
            "                                                                                                  \n",
            "==================================================================================================\n",
            "Total params: 877,946\n",
            "Trainable params: 877,946\n",
            "Non-trainable params: 0\n",
            "__________________________________________________________________________________________________\n"
          ]
        }
      ]
    },
    {
      "cell_type": "code",
      "source": [],
      "metadata": {
        "id": "NKf7MbJuVH2X"
      },
      "execution_count": null,
      "outputs": []
    },
    {
      "cell_type": "code",
      "execution_count": null,
      "metadata": {
        "colab": {
          "base_uri": "https://localhost:8080/"
        },
        "id": "4U0JAjoiwbAC",
        "outputId": "4eafee6e-9551-40e9-ed12-3f5d50b423ba"
      },
      "outputs": [
        {
          "output_type": "stream",
          "name": "stdout",
          "text": [
            "Epoch 1/35\n",
            "53/53 [==============================] - 162s 2s/step - loss: 2.3217 - acc: 0.1610 - val_loss: 2.2767 - val_acc: 0.1779\n",
            "Epoch 2/35\n",
            "53/53 [==============================] - 119s 2s/step - loss: 2.1965 - acc: 0.1988 - val_loss: 2.1185 - val_acc: 0.2239\n",
            "Epoch 3/35\n",
            "53/53 [==============================] - 119s 2s/step - loss: 2.0992 - acc: 0.1973 - val_loss: 1.9265 - val_acc: 0.2531\n",
            "Epoch 4/35\n",
            "53/53 [==============================] - 120s 2s/step - loss: 1.9011 - acc: 0.2902 - val_loss: 1.7060 - val_acc: 0.3712\n",
            "Epoch 5/35\n",
            "53/53 [==============================] - 119s 2s/step - loss: 1.7112 - acc: 0.3885 - val_loss: 1.6168 - val_acc: 0.4172\n",
            "Epoch 6/35\n",
            "53/53 [==============================] - 119s 2s/step - loss: 1.5706 - acc: 0.4528 - val_loss: 1.4435 - val_acc: 0.4908\n",
            "Epoch 7/35\n",
            "53/53 [==============================] - 121s 2s/step - loss: 1.4440 - acc: 0.5155 - val_loss: 1.3500 - val_acc: 0.5061\n",
            "Epoch 8/35\n",
            "53/53 [==============================] - 121s 2s/step - loss: 1.2586 - acc: 0.5760 - val_loss: 1.2898 - val_acc: 0.5414\n",
            "Epoch 9/35\n",
            "53/53 [==============================] - 119s 2s/step - loss: 1.1989 - acc: 0.5745 - val_loss: 1.1597 - val_acc: 0.5721\n",
            "Epoch 10/35\n",
            "53/53 [==============================] - 119s 2s/step - loss: 1.1415 - acc: 0.6190 - val_loss: 1.1159 - val_acc: 0.6120\n",
            "Epoch 11/35\n",
            "53/53 [==============================] - 119s 2s/step - loss: 1.0534 - acc: 0.6493 - val_loss: 1.0956 - val_acc: 0.6227\n",
            "Epoch 12/35\n",
            "53/53 [==============================] - 119s 2s/step - loss: 1.0342 - acc: 0.6531 - val_loss: 1.0589 - val_acc: 0.6258\n",
            "Epoch 13/35\n",
            "53/53 [==============================] - 119s 2s/step - loss: 0.8982 - acc: 0.6742 - val_loss: 1.0661 - val_acc: 0.6426\n",
            "Epoch 14/35\n",
            "53/53 [==============================] - 119s 2s/step - loss: 0.8751 - acc: 0.7007 - val_loss: 1.1721 - val_acc: 0.6104\n",
            "Epoch 15/35\n",
            "53/53 [==============================] - 119s 2s/step - loss: 0.8471 - acc: 0.6984 - val_loss: 1.0694 - val_acc: 0.6350\n",
            "Epoch 16/35\n",
            "53/53 [==============================] - 120s 2s/step - loss: 0.8400 - acc: 0.7090 - val_loss: 1.0534 - val_acc: 0.6442\n",
            "Epoch 17/35\n",
            "53/53 [==============================] - 119s 2s/step - loss: 0.7728 - acc: 0.7218 - val_loss: 1.1899 - val_acc: 0.6104\n",
            "Epoch 18/35\n",
            "53/53 [==============================] - 119s 2s/step - loss: 0.7566 - acc: 0.7347 - val_loss: 1.1041 - val_acc: 0.6396\n",
            "Epoch 19/35\n",
            "27/53 [==============>...............] - ETA: 39s - loss: 0.6868 - acc: 0.7437"
          ]
        }
      ],
      "source": [
        "history = model.fit(x_train,y_train,epochs=35,batch_size=25,validation_data=(x_val,y_val))"
      ]
    },
    {
      "cell_type": "code",
      "source": [
        "del x_train\n",
        "del x_val\n",
        "del y_train\n",
        "del y_val\n",
        "del history\n",
        "del data"
      ],
      "metadata": {
        "id": "ytrQn-avcorZ",
        "colab": {
          "base_uri": "https://localhost:8080/",
          "height": 200
        },
        "outputId": "5ae26c23-6f36-4818-e2fd-5fc645134718"
      },
      "execution_count": null,
      "outputs": [
        {
          "output_type": "error",
          "ename": "NameError",
          "evalue": "ignored",
          "traceback": [
            "\u001b[0;31m---------------------------------------------------------------------------\u001b[0m",
            "\u001b[0;31mNameError\u001b[0m                                 Traceback (most recent call last)",
            "\u001b[0;32m<ipython-input-25-9dbb3cd1a05b>\u001b[0m in \u001b[0;36m<module>\u001b[0;34m\u001b[0m\n\u001b[1;32m      4\u001b[0m \u001b[0;32mdel\u001b[0m \u001b[0my_val\u001b[0m\u001b[0;34m\u001b[0m\u001b[0;34m\u001b[0m\u001b[0m\n\u001b[1;32m      5\u001b[0m \u001b[0;32mdel\u001b[0m \u001b[0mhistory\u001b[0m\u001b[0;34m\u001b[0m\u001b[0;34m\u001b[0m\u001b[0m\n\u001b[0;32m----> 6\u001b[0;31m \u001b[0;32mdel\u001b[0m \u001b[0mdata\u001b[0m\u001b[0;34m\u001b[0m\u001b[0;34m\u001b[0m\u001b[0m\n\u001b[0m",
            "\u001b[0;31mNameError\u001b[0m: name 'data' is not defined"
          ]
        }
      ]
    },
    {
      "cell_type": "code",
      "execution_count": null,
      "metadata": {
        "colab": {
          "base_uri": "https://localhost:8080/",
          "height": 380
        },
        "id": "j28RQfiACZ8z",
        "outputId": "c89444b1-13d4-4524-9d98-862dfdba4117"
      },
      "outputs": [
        {
          "output_type": "error",
          "ename": "OSError",
          "evalue": "ignored",
          "traceback": [
            "\u001b[0;31m---------------------------------------------------------------------------\u001b[0m",
            "\u001b[0;31mOSError\u001b[0m                                   Traceback (most recent call last)",
            "\u001b[0;32m<ipython-input-4-27d28441f290>\u001b[0m in \u001b[0;36m<module>\u001b[0;34m\u001b[0m\n\u001b[1;32m      2\u001b[0m \u001b[0;32mfrom\u001b[0m \u001b[0mtensorflow\u001b[0m\u001b[0;34m.\u001b[0m\u001b[0mkeras\u001b[0m\u001b[0;34m.\u001b[0m\u001b[0mlayers\u001b[0m \u001b[0;32mimport\u001b[0m \u001b[0mInput\u001b[0m\u001b[0;34m,\u001b[0m \u001b[0mAverage\u001b[0m\u001b[0;34m\u001b[0m\u001b[0;34m\u001b[0m\u001b[0m\n\u001b[1;32m      3\u001b[0m \u001b[0;34m\u001b[0m\u001b[0m\n\u001b[0;32m----> 4\u001b[0;31m \u001b[0mmodel_1\u001b[0m \u001b[0;34m=\u001b[0m \u001b[0mload_model\u001b[0m\u001b[0;34m(\u001b[0m\u001b[0;34m'/content/acc94img1200shape600epoch180.h5'\u001b[0m\u001b[0;34m)\u001b[0m\u001b[0;34m\u001b[0m\u001b[0;34m\u001b[0m\u001b[0m\n\u001b[0m\u001b[1;32m      5\u001b[0m model_1 = Model(inputs=model_1.inputs,\n\u001b[1;32m      6\u001b[0m                 \u001b[0moutputs\u001b[0m\u001b[0;34m=\u001b[0m\u001b[0mmodel_1\u001b[0m\u001b[0;34m.\u001b[0m\u001b[0moutputs\u001b[0m\u001b[0;34m,\u001b[0m\u001b[0;34m\u001b[0m\u001b[0;34m\u001b[0m\u001b[0m\n",
            "\u001b[0;32m/usr/local/lib/python3.7/dist-packages/keras/utils/traceback_utils.py\u001b[0m in \u001b[0;36merror_handler\u001b[0;34m(*args, **kwargs)\u001b[0m\n\u001b[1;32m     65\u001b[0m     \u001b[0;32mexcept\u001b[0m \u001b[0mException\u001b[0m \u001b[0;32mas\u001b[0m \u001b[0me\u001b[0m\u001b[0;34m:\u001b[0m  \u001b[0;31m# pylint: disable=broad-except\u001b[0m\u001b[0;34m\u001b[0m\u001b[0;34m\u001b[0m\u001b[0m\n\u001b[1;32m     66\u001b[0m       \u001b[0mfiltered_tb\u001b[0m \u001b[0;34m=\u001b[0m \u001b[0m_process_traceback_frames\u001b[0m\u001b[0;34m(\u001b[0m\u001b[0me\u001b[0m\u001b[0;34m.\u001b[0m\u001b[0m__traceback__\u001b[0m\u001b[0;34m)\u001b[0m\u001b[0;34m\u001b[0m\u001b[0;34m\u001b[0m\u001b[0m\n\u001b[0;32m---> 67\u001b[0;31m       \u001b[0;32mraise\u001b[0m \u001b[0me\u001b[0m\u001b[0;34m.\u001b[0m\u001b[0mwith_traceback\u001b[0m\u001b[0;34m(\u001b[0m\u001b[0mfiltered_tb\u001b[0m\u001b[0;34m)\u001b[0m \u001b[0;32mfrom\u001b[0m \u001b[0;32mNone\u001b[0m\u001b[0;34m\u001b[0m\u001b[0;34m\u001b[0m\u001b[0m\n\u001b[0m\u001b[1;32m     68\u001b[0m     \u001b[0;32mfinally\u001b[0m\u001b[0;34m:\u001b[0m\u001b[0;34m\u001b[0m\u001b[0;34m\u001b[0m\u001b[0m\n\u001b[1;32m     69\u001b[0m       \u001b[0;32mdel\u001b[0m \u001b[0mfiltered_tb\u001b[0m\u001b[0;34m\u001b[0m\u001b[0;34m\u001b[0m\u001b[0m\n",
            "\u001b[0;32m/usr/local/lib/python3.7/dist-packages/keras/saving/save.py\u001b[0m in \u001b[0;36mload_model\u001b[0;34m(filepath, custom_objects, compile, options)\u001b[0m\n\u001b[1;32m    202\u001b[0m         \u001b[0;32mif\u001b[0m \u001b[0misinstance\u001b[0m\u001b[0;34m(\u001b[0m\u001b[0mfilepath_str\u001b[0m\u001b[0;34m,\u001b[0m \u001b[0mstr\u001b[0m\u001b[0;34m)\u001b[0m\u001b[0;34m:\u001b[0m\u001b[0;34m\u001b[0m\u001b[0;34m\u001b[0m\u001b[0m\n\u001b[1;32m    203\u001b[0m           \u001b[0;32mif\u001b[0m \u001b[0;32mnot\u001b[0m \u001b[0mtf\u001b[0m\u001b[0;34m.\u001b[0m\u001b[0mio\u001b[0m\u001b[0;34m.\u001b[0m\u001b[0mgfile\u001b[0m\u001b[0;34m.\u001b[0m\u001b[0mexists\u001b[0m\u001b[0;34m(\u001b[0m\u001b[0mfilepath_str\u001b[0m\u001b[0;34m)\u001b[0m\u001b[0;34m:\u001b[0m\u001b[0;34m\u001b[0m\u001b[0;34m\u001b[0m\u001b[0m\n\u001b[0;32m--> 204\u001b[0;31m             \u001b[0;32mraise\u001b[0m \u001b[0mIOError\u001b[0m\u001b[0;34m(\u001b[0m\u001b[0;34mf'No file or directory found at {filepath_str}'\u001b[0m\u001b[0;34m)\u001b[0m\u001b[0;34m\u001b[0m\u001b[0;34m\u001b[0m\u001b[0m\n\u001b[0m\u001b[1;32m    205\u001b[0m \u001b[0;34m\u001b[0m\u001b[0m\n\u001b[1;32m    206\u001b[0m           \u001b[0;32mif\u001b[0m \u001b[0mtf\u001b[0m\u001b[0;34m.\u001b[0m\u001b[0mio\u001b[0m\u001b[0;34m.\u001b[0m\u001b[0mgfile\u001b[0m\u001b[0;34m.\u001b[0m\u001b[0misdir\u001b[0m\u001b[0;34m(\u001b[0m\u001b[0mfilepath_str\u001b[0m\u001b[0;34m)\u001b[0m\u001b[0;34m:\u001b[0m\u001b[0;34m\u001b[0m\u001b[0;34m\u001b[0m\u001b[0m\n",
            "\u001b[0;31mOSError\u001b[0m: No file or directory found at /content/acc94img1200shape600epoch180.h5"
          ]
        }
      ],
      "source": [
        "from tensorflow.keras.models import Model, load_model\n",
        "from tensorflow.keras.layers import Input, Average\n",
        "\n",
        "model_1 = load_model('/content/acc94img1200shape600epoch180.h5')\n",
        "model_1 = Model(inputs=model_1.inputs,\n",
        "                outputs=model_1.outputs,\n",
        "                name='name_of_model_1')\n",
        "\n",
        "model_2 = load_model('/content/acc97img420shape600epoch50.h5')\n",
        "model_2 = Model(inputs=model_2.inputs,\n",
        "                outputs=model_2.outputs,\n",
        "                name='name_of_model_2')\n",
        "\n",
        "models = [model_1, model_2]\n",
        "model_input = Input(shape=(600, 600, 3))\n",
        "model_outputs = [model(model_input) for model in models]\n",
        "ensemble_output = Average()(model_outputs)\n",
        "ensemble_model = Model(inputs=model_input, outputs=ensemble_output, name='ensemble')\n",
        "model.save(f'ensemble.h5')"
      ]
    },
    {
      "cell_type": "code",
      "execution_count": null,
      "metadata": {
        "id": "TC1F07sL7tNZ"
      },
      "outputs": [],
      "source": [
        "file_name = '92-45comb'\n",
        "\n",
        "model.save(f'{file_name}.h5')"
      ]
    },
    {
      "cell_type": "code",
      "source": [
        "del model"
      ],
      "metadata": {
        "id": "IJTcJWmKemrd"
      },
      "execution_count": null,
      "outputs": []
    },
    {
      "cell_type": "code",
      "execution_count": null,
      "metadata": {
        "colab": {
          "base_uri": "https://localhost:8080/",
          "height": 34
        },
        "id": "a442kK_oGg_w",
        "outputId": "1a456a20-c8f9-48a6-f362-a99b6ef2820e"
      },
      "outputs": [
        {
          "data": {
            "application/javascript": [
              "\n",
              "    async function download(id, filename, size) {\n",
              "      if (!google.colab.kernel.accessAllowed) {\n",
              "        return;\n",
              "      }\n",
              "      const div = document.createElement('div');\n",
              "      const label = document.createElement('label');\n",
              "      label.textContent = `Downloading \"${filename}\": `;\n",
              "      div.appendChild(label);\n",
              "      const progress = document.createElement('progress');\n",
              "      progress.max = size;\n",
              "      div.appendChild(progress);\n",
              "      document.body.appendChild(div);\n",
              "\n",
              "      const buffers = [];\n",
              "      let downloaded = 0;\n",
              "\n",
              "      const channel = await google.colab.kernel.comms.open(id);\n",
              "      // Send a message to notify the kernel that we're ready.\n",
              "      channel.send({})\n",
              "\n",
              "      for await (const message of channel.messages) {\n",
              "        // Send a message to notify the kernel that we're ready.\n",
              "        channel.send({})\n",
              "        if (message.buffers) {\n",
              "          for (const buffer of message.buffers) {\n",
              "            buffers.push(buffer);\n",
              "            downloaded += buffer.byteLength;\n",
              "            progress.value = downloaded;\n",
              "          }\n",
              "        }\n",
              "      }\n",
              "      const blob = new Blob(buffers, {type: 'application/binary'});\n",
              "      const a = document.createElement('a');\n",
              "      a.href = window.URL.createObjectURL(blob);\n",
              "      a.download = filename;\n",
              "      div.appendChild(a);\n",
              "      a.click();\n",
              "      div.remove();\n",
              "    }\n",
              "  "
            ],
            "text/plain": [
              "<IPython.core.display.Javascript object>"
            ]
          },
          "metadata": {},
          "output_type": "display_data"
        },
        {
          "data": {
            "application/javascript": [
              "download(\"download_91bd29e3-ebb8-4de5-8165-418fa4461525\", \"acc97img800shape300epoch60.h5\", 66101820)"
            ],
            "text/plain": [
              "<IPython.core.display.Javascript object>"
            ]
          },
          "metadata": {},
          "output_type": "display_data"
        }
      ],
      "source": [
        "from google.colab import files\n",
        "files.download(f\"{file_name}.h5\" ) "
      ]
    },
    {
      "cell_type": "code",
      "execution_count": null,
      "metadata": {
        "id": "M5DFTfFl32Ui",
        "colab": {
          "base_uri": "https://localhost:8080/"
        },
        "outputId": "ae4a6bc4-b6f4-49cc-906d-56f1c2ad68d1"
      },
      "outputs": [
        {
          "output_type": "stream",
          "name": "stdout",
          "text": [
            "[256, 257, 258, 259, 260, 261, 262, 263, 264, 265, 266, 267, 268, 269, 270, 271, 272, 273, 274, 275, 276, 277, 278, 279, 280, 281, 282, 283, 284, 285, 286, 287, 288, 289, 290, 291, 292, 293, 294, 295, 296, 297, 298, 299, 300, 301, 302, 303, 304, 305, 306, 307, 308, 309, 310, 311, 312, 313, 314, 315, 316, 317, 318, 319, 320, 321, 322, 323, 324, 325, 326, 327, 328, 329, 330, 331, 332, 333, 334, 335, 336, 337, 338, 339, 340, 341, 342, 343, 344, 345, 346, 347, 348, 349, 350, 351, 352, 353, 354, 355, 356, 357, 358, 359, 360, 361, 362, 363, 364, 365, 366, 367, 368, 369, 370, 371, 372, 373, 374, 375, 376, 377, 378, 379, 380, 381, 382, 383, 384, 385, 386, 387, 388, 389, 390, 391, 392, 393, 394, 395, 396, 397, 398, 399, 400, 401, 402, 403, 404, 405, 406, 407, 408, 409, 410, 411, 412, 413, 414, 415, 416, 417, 418, 419, 420, 421, 422, 423, 424, 425, 426, 427, 428, 429, 430, 431, 432, 433, 434, 435, 436, 437, 438, 439, 440, 441, 442, 443, 444, 445, 446, 447, 448, 449, 450, 451, 452, 453, 454, 455, 456, 457, 458, 459, 460, 461, 462, 463, 464, 465, 466, 467, 468, 469, 470, 471, 472, 473, 474, 475, 476, 477, 478, 479, 480, 481, 482, 483, 484, 485, 486, 487, 488, 489, 490, 491, 492, 493, 494, 495, 496, 497, 498, 499, 500, 501, 502, 503, 504, 505, 506, 507, 508, 509, 510, 511, 512, 513, 514, 515, 516, 517, 518, 519, 520, 521, 522, 523, 524, 525, 526, 527, 528, 529, 530, 531, 532, 533, 534, 535, 536, 537, 538, 539, 540, 541, 542, 543, 544, 545, 546, 547, 548, 549, 550, 551, 552, 553, 554, 555, 556, 557, 558, 559, 560, 561, 562, 563, 564, 565, 566, 567, 568, 569, 570, 571, 572, 573, 574, 575, 576, 577, 578, 579, 580, 581, 582, 583, 584, 585, 586, 587, 588, 589, 590, 591, 592, 593, 594, 595, 596, 597, 598, 599, 600, 601, 602, 603, 604, 605, 606, 607, 608, 609, 610, 611, 612, 613, 614, 615, 616, 617, 618, 619, 620, 621, 622, 623, 624, 625, 626, 627, 628, 629, 630, 631, 632, 633, 634, 635, 636, 637, 638, 639, 640, 641, 642, 643, 644, 645, 646, 647, 648, 649, 650, 651, 652, 653, 654, 655, 656, 657, 658, 659, 660, 661, 662, 663, 664, 665, 666, 667, 668, 669, 670, 671, 672, 673, 674, 675, 676, 677, 678, 679, 680, 681, 682, 683, 684, 685, 686, 687, 688, 689, 690, 691, 692, 693, 694, 695, 696, 697, 698, 699, 700, 701, 702, 703, 704, 705, 706, 707, 708, 709, 710, 711, 712, 713, 714, 715, 716, 717, 718, 719, 720, 721, 722, 723, 724, 725, 726, 727, 728, 729, 730, 731, 732, 733, 734, 735, 736, 737, 738, 739, 740, 741, 742, 743, 744, 745, 746, 747, 748, 749, 750, 751, 752, 753, 754, 755, 756, 757, 758, 759, 760, 761, 762, 763, 764, 765, 766, 767, 768, 769, 770, 771, 772, 773, 774, 775, 776, 777, 778, 779, 780, 781, 782, 783, 784, 785, 786, 787, 788, 789, 790, 791, 792, 793, 794, 795, 796, 797, 798, 799, 800, 801, 802, 803, 804, 805, 806, 807, 808, 809, 810, 811, 812, 813, 814, 815, 816, 817, 818, 819, 820, 821, 822, 823, 824, 825, 826, 827, 828, 829, 830, 831, 832, 833, 834, 835, 836, 837, 838, 839, 840, 841, 842, 843, 844, 845, 846, 847, 848, 849, 850, 851, 852, 853, 854, 855, 856, 857, 858, 859, 860, 861, 862, 863, 864, 865, 866, 867, 868, 869, 870, 871, 872, 873, 874, 875, 876, 877, 878, 879, 880, 891, 892, 881, 882, 883, 884, 885, 886, 887, 888, 889, 890, 893, 894, 895, 896, 897, 898, 899, 900, 901, 902, 903, 904, 905, 906, 907, 908, 909, 910, 911, 912, 913, 914, 915, 916, 917, 918, 919, 920, 921, 922, 923, 924, 925, 926, 927, 928, 929, 930, 931, 932, 933, 934, 935, 936, 937, 938, 939, 940, 941, 942, 943, 944, 945, 946, 947, 948, 949, 950, 951, 952, 953, 954, 955, 956, 957, 958, 959, 960, 961, 962, 963, 964, 965, 966, 967, 968, 969, 970, 971, 972, 973, 974, 975, 976, 977, 978, 979, 980, 981, 982, 983, 984, 985, 986, 987, 988, 989, 990, 991, 992, 993, 994, 995, 996, 997, 998, 999, 1000, 1001, 1002, 1003, 1004, 1005, 1006, 1007, 1008, 1009, 1010, 1011, 1012, 1013, 1014, 1015, 1016, 1017, 1018, 1019, 1020, 1022, 1021, 1023, 1024, 1025, 1026, 1027, 1028, 1029, 1030, 1031, 1032, 1033, 1034, 1035, 1036, 1037, 1038, 1039, 1040, 1041, 1042, 1043, 1044, 1045, 1046, 1047, 1048, 1049, 1050, 1051, 1052, 1053, 1054, 1055, 1056, 1057, 1058, 1059, 1060, 1061, 1062, 1063, 1064, 1065, 1066, 1067, 1068, 1069, 1070, 1071, 1072, 1073, 1074, 1075, 1076, 1077, 1078, 1079, 1080, 1081, 1082, 1083, 1084, 1085, 1086, 1087, 1088, 1089, 1090, 1091, 1092, 1093, 1094, 1095, 1096, 1097, 1098, 1099, 1100, 1101, 1102, 1103, 1104, 1105, 1106, 1107, 1108, 1109, 1110, 1111, 1112, 1113, 1114, 1115, 1116, 1117, 1118, 1119, 1120, 1121, 1122, 1123, 1124, 1125, 1126, 1127, 1128, 1129, 1130, 1131, 1132, 1133, 1134, 1135, 1136, 1137, 1138, 1139, 1140, 1141, 1142, 1143, 1144, 1145, 1146, 1147, 1148, 1149, 1150, 1151, 1152, 1153, 1154, 1155, 1156, 1157, 1158, 1159, 1160, 1161, 1162, 1163, 1164, 1165, 1166, 1167, 1168, 1169, 1170, 1171, 1172, 1173, 1174, 1175, 1176, 1177, 1178, 1179, 1180, 1181, 1182, 1183, 1184, 1185, 1186, 1187, 1188, 1189, 1190, 1191, 1192, 1193, 1194, 1195, 1196, 1197, 1198, 1199, 1200, 1201, 1202, 1203, 1204, 1205, 1206, 1207, 1208, 1209, 1210, 1211, 1212, 1213, 1214, 1215, 1216, 1217, 1218, 1219, 1220, 1221, 1222, 1223, 1224, 1225, 1226, 1227, 1228, 1229, 1230, 1231, 1232, 1233, 1234, 1235, 1236, 1237, 1238, 1239, 1240, 1241, 1242, 1243, 1244, 1245, 1246, 1247, 1248, 1249, 1250, 1251, 1252, 1253, 1254, 1255, 135, 136, 137, 138, 139, 140, 141, 142, 143, 144, 145, 146, 147, 148, 149, 150, 151, 152, 153, 154, 155, 156, 157, 158, 159, 160, 161, 162, 163, 164, 165, 166, 167, 168, 169, 170, 171, 172, 173, 174, 175, 176, 177, 178, 179, 180, 181, 183, 182, 184, 185, 186, 187, 188, 189, 190, 191, 192, 193, 194, 195, 196, 197, 198, 199, 200, 201, 202, 203, 204, 205, 206, 207, 208, 209, 210, 211, 212, 213, 214, 215, 216, 217, 218, 219, 220, 221, 222, 223, 224, 225, 226, 227, 228, 229, 230, 231, 232, 233, 234, 235, 236, 237, 238, 239, 240, 241, 242, 243, 244, 245, 246, 247, 248, 249, 250, 251, 252, 253, 254, 255]\n"
          ]
        }
      ],
      "source": [
        "from tensorflow.keras.models import load_model\n",
        "\n",
        "\n",
        "test_images = []       \n",
        "test_id = []\n",
        "shape = (512,512)  \n",
        "test_path = '/content/gdrive/MyDrive/DigitalGap/test'\n",
        "\n",
        "for filename in os.listdir(test_path):\n",
        "    if filename.split('.')[1] == 'jpg':\n",
        "        img = cv2.imread(os.path.join(test_path,filename))\n",
        "        id = filename.split('.')[0]\n",
        "        test_id.append(int(id))\n",
        "        img = cv2.resize(img,shape)\n",
        "        test_images.append(img)\n",
        "\n",
        "\n",
        "print(test_id)"
      ]
    },
    {
      "cell_type": "code",
      "execution_count": null,
      "metadata": {
        "id": "QwgyVr0TsLXo"
      },
      "outputs": [],
      "source": [
        "# model_emp = load_model(f'/content/emp98.h5')\n",
        "# model_act = load_model(f'/content/act95.h5')\n",
        "model_comb = load_model(f'/content/91-49comb.h5')\n",
        "y_test_emp = []\n",
        "y_test_act = []\n",
        "data_test = pd.read_csv('/content/gdrive/MyDrive/DigitalGap/test.csv')\n",
        "\n",
        "for row in data_test.iterrows():\n",
        "  id = row[1][0]\n",
        "  if id in test_id:\n",
        "    # y_pred_employee = model_emp.predict(test_images[test_id.index(id)].reshape(1,600, 600, 3))\n",
        "    # y_pred_act = model_act.predict(test_images[test_id.index(id)].reshape(1,600, 600, 3))\n",
        "    y_pred_comb = model_comb.predict(test_images[test_id.index(id)].reshape(1,512, 512, 3))\n",
        "\n",
        "    pred_comb = np.argmax(y_pred_comb)\n",
        "    # pred_emp = np.argmax(y_pred_employee)\n",
        "    # pred_act = np.argmax(y_pred_act)\n",
        "    # y_test_emp.append(train_labels[pred_emp])\n",
        "    # y_test_act.append(train_labels[pred_act])\n",
        "    y_test_emp.append(train_labels[pred_comb].split('/')[0])\n",
        "    y_test_act.append(train_labels[pred_comb].split('/')[1])\n",
        "\n",
        "data_test['employee'] = y_test_emp\n",
        "data_test['action'] = y_test_act\n",
        "\n",
        "data_test.set_index('id')\n",
        "data_test.drop(['date'], axis=1, inplace=True)\n",
        "\n",
        "data_test.reset_index(drop=True, inplace=True)\n",
        "data_test"
      ]
    },
    {
      "cell_type": "code",
      "execution_count": null,
      "metadata": {
        "id": "ZQXUciYSPCkU"
      },
      "outputs": [],
      "source": [
        "from google.colab import files\n",
        "data_test.to_csv(f'{file_name}.csv', encoding = 'utf-8-sig',index=False) \n",
        "files.download(f'{file_name}.csv')"
      ]
    }
  ],
  "metadata": {
    "accelerator": "GPU",
    "colab": {
      "collapsed_sections": [],
      "provenance": []
    },
    "gpuClass": "standard",
    "kernelspec": {
      "display_name": "Python 3",
      "name": "python3"
    },
    "language_info": {
      "name": "python"
    }
  },
  "nbformat": 4,
  "nbformat_minor": 0
}